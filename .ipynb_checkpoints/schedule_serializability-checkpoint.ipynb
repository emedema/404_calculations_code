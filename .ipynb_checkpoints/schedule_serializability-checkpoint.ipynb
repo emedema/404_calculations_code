{
 "cells": [
  {
   "cell_type": "markdown",
   "id": "e4bc9618-28a0-4113-94b2-ad3b5d4222e4",
   "metadata": {},
   "source": [
    "## Schedule Serializability\n",
    "\n",
    "Code to determine if a given schedule is serializable, conflict serializable, etc.\n",
    "\n",
    "A schedule is typically given in the following format: w1(A);r2(A);w2(B);r4(A);r4(B);r4(C);w3(C);r3(D);r1(C);r2(D);w2(D);\n",
    "\n",
    "w corresponds to a write, r corresponds to a read, and c is a commit. The number corresponds to which transaction is performing the action. The upper-case letters correspond to what the action is performed on. For example, w1(A) is Transaction 1 writing A.\n",
    "\n",
    "A schedule is serializable if it is equivalent to a serial schedule.\n",
    "\n",
    "There are two different forms of serializability:\n",
    "1. conflict serializability \n",
    "2. view serializability\n",
    "\n",
    "If a schedule S can be transformed into a schedule S ́ by a series of swaps of non-conflicting instructions, S and S ́ are conflict equivalent. A schedule S is conflict serializable if it is conflict equivalent to a serial schedule.\n",
    "\n",
    "Conflicts can be defined as: Operations Oi and Oj of transactions Ti and Tj respectively, conflict if and only if there exists some item Q accessed by both Oi and Oj, and at least one of these operations wrote Q.\n",
    "\n",
    "Possibilities:\n",
    "1. Oi = read(Q), Oj = read(Q). Oi and Oj do not conflict.\n",
    "2. Oi = read(Q), Oj = write(Q). Conflict - order is important \n",
    "3. Oi = write(Q), Oj = read(Q). Conflict - reverse of #2\n",
    "4. Oi = write(Q), Oj = write(Q). Conflict - who writes last?\n",
    "\n",
    "### Testing for Serializability\n",
    "\n",
    "It is possible to determine if some schedule of transactions T1, T2, ..., Tn is serializable using a precedence graph. A precedence graph is a directed graph where the vertices are the transactions, and there is an arc from Ti to Tj if the two transactions conflict, and Ti accessed the data item on which they conflict earlier.\n",
    "\n",
    "A schedule is **conflict serializable** if and only if its precedence graph is ***acyclic***.\n",
    "\n",
    "If the precedence graph is acyclic, the serializability order can be obtained by a topological sorting of the graph.\n",
    "\n",
    "There are a few other measures as well, but we will go into them later."
   ]
  },
  {
   "cell_type": "code",
   "execution_count": 1,
   "id": "8cfce83c-096a-4b24-a7da-8b96ccccff10",
   "metadata": {},
   "outputs": [],
   "source": [
    "#import libraries\n",
    "import networkx as nx\n",
    "import matplotlib.pyplot as plt"
   ]
  },
  {
   "cell_type": "code",
   "execution_count": 2,
   "id": "f97489ab-53db-4f71-a08e-e238f68f92f8",
   "metadata": {
    "tags": []
   },
   "outputs": [
    {
     "name": "stdin",
     "output_type": "stream",
     "text": [
      "What is the schedule we are testing?  r2(A);w2(A);r1(B);r2(B);r1(A);w1(B);w2(B);c1;r3(B);c2;w3(C);c3;\n"
     ]
    },
    {
     "name": "stdout",
     "output_type": "stream",
     "text": [
      "['2', '1', '3']\n",
      "[{'action': 'r', 'transaction': '2', 'doneto': 'A'}, {'action': 'w', 'transaction': '2', 'doneto': 'A'}, {'action': 'r', 'transaction': '1', 'doneto': 'B'}, {'action': 'r', 'transaction': '2', 'doneto': 'B'}, {'action': 'r', 'transaction': '1', 'doneto': 'A'}, {'action': 'w', 'transaction': '1', 'doneto': 'B'}, {'action': 'w', 'transaction': '2', 'doneto': 'B'}, {'action': 'r', 'transaction': '3', 'doneto': 'B'}, {'action': 'w', 'transaction': '3', 'doneto': 'C'}]\n"
     ]
    }
   ],
   "source": [
    "schedule = input(\"What is the schedule we are testing? \")\n",
    "\n",
    "#w1(A);r2(A);w2(B);r4(A);r4(B);r4(C);w3(C);r3(D);r1(C);r2(D);w2(D);\n",
    "#split based on ;\n",
    "temp = schedule.split(\";\")\n",
    "actions = []\n",
    "transactions = []\n",
    "commits = []\n",
    "for action in temp:\n",
    "    if len(action) > 2:\n",
    "        if (action[1] in transactions) == False:\n",
    "            transactions.append(action[1])\n",
    "        actions.append({\"action\": action[0], \"transaction\": action[1], \"doneto\": action[3]})\n",
    "    elif len(action) > 0:\n",
    "        commits.append({\"action\":action[0], \"transaction\": action[1]})\n",
    "\n",
    "print(transactions)\n",
    "print(actions)"
   ]
  },
  {
   "cell_type": "code",
   "execution_count": 3,
   "id": "82cf3c62-8781-4f1d-9a86-437c404d6413",
   "metadata": {},
   "outputs": [],
   "source": [
    "# add transactions as nodes\n",
    "DG = nx.DiGraph()\n",
    "DG.add_nodes_from(transactions)\n",
    "#pos = nx.spring_layout(DG)"
   ]
  },
  {
   "cell_type": "code",
   "execution_count": 4,
   "id": "ef388f38-0a41-4330-bfea-fd5dfaf76fe8",
   "metadata": {},
   "outputs": [
    {
     "name": "stdout",
     "output_type": "stream",
     "text": [
      "Conflict: w2(A) and r1(A)\n",
      "Conflict: r1(B) and w2(B)\n",
      "Conflict: r2(B) and w1(B)\n",
      "Conflict: w1(B) and w2(B)\n",
      "Conflict: w1(B) and r3(B)\n",
      "Conflict: w2(B) and r3(B)\n",
      "{('2', '1'): 'B', ('2', '3'): 'B', ('1', '2'): 'B', ('1', '3'): 'B'}\n"
     ]
    },
    {
     "data": {
      "image/png": "[encoded data removed]",
      "text/plain": [
       "<Figure size 432x288 with 1 Axes>"
      ]
     },
     "metadata": {},
     "output_type": "display_data"
    }
   ],
   "source": [
    "'''\n",
    "Add edges for actions that conflict\n",
    "Conflicts\n",
    "    Oi = read(Q), Oj = read(Q). Oi and Oj do not conflict.\n",
    "    Oi = read(Q), Oj = write(Q). Conflict - order is important\n",
    "    Oi = write(Q), Oj = read(Q). Conflict - reverse of #2\n",
    "    Oi = write(Q), Oj = write(Q). Conflict - who writes last?\n",
    "'''\n",
    "for i in range(len(actions)):\n",
    "    current = actions[i]\n",
    "    for j in range(i, len(actions)):\n",
    "        if current[\"transaction\"] != actions[j][\"transaction\"] and current[\"doneto\"] == actions[j][\"doneto\"]:\n",
    "            if (current[\"action\"] == 'r' and actions[j][\"action\"] == 'r') != True:\n",
    "                print(\"Conflict: \" + current[\"action\"]+current[\"transaction\"]+\"(\"+current[\"doneto\"] + \") and \" \n",
    "                      + actions[j][\"action\"]+actions[j][\"transaction\"]+\"(\"+actions[j][\"doneto\"] + \")\")\n",
    "                DG.add_edge(current[\"transaction\"], actions[j][\"transaction\"], label = current[\"doneto\"])\n",
    "\n",
    "pos = nx.spring_layout(DG)\n",
    "nx.draw(DG, pos, with_labels=True, font_weight='bold')\n",
    "labels = nx.get_edge_attributes(DG,'label')\n",
    "print(labels)\n",
    "nx.draw_networkx_edge_labels(DG, pos, edge_labels=labels)\n",
    "plt.show()"
   ]
  },
  {
   "cell_type": "code",
   "execution_count": 5,
   "id": "1522d565-4d71-4b19-9c67-1d4fb1bb9926",
   "metadata": {},
   "outputs": [
    {
     "name": "stdout",
     "output_type": "stream",
     "text": [
      "Total number of nodes:  3\n",
      "Total number of edges:  4\n",
      "List of all nodes:  ['2', '1', '3']\n",
      "List of all edges:  [('2', '1'), ('2', '3'), ('1', '2'), ('1', '3')]\n",
      "In-degree for all nodes:  {'2': 1, '1': 1, '3': 2}\n",
      "Out degree for all nodes:  {'2': 2, '1': 2, '3': 0}\n",
      "Cycles: \n",
      "['1', '2']\n"
     ]
    }
   ],
   "source": [
    "# getting different graph attributes\n",
    "print(\"Total number of nodes: \", int(DG.number_of_nodes()))\n",
    "print(\"Total number of edges: \", int(DG.number_of_edges()))\n",
    "print(\"List of all nodes: \", list(DG.nodes()))\n",
    "print(\"List of all edges: \", list(DG.edges()))\n",
    "print(\"In-degree for all nodes: \", dict(DG.in_degree()))\n",
    "print(\"Out degree for all nodes: \", dict(DG.out_degree))\n",
    "  \n",
    "print(\"Cycles: \")\n",
    "for cycle in nx.simple_cycles(DG):\n",
    "    print(cycle)"
   ]
  },
  {
   "cell_type": "code",
   "execution_count": 6,
   "id": "819bda00-9d6b-4175-94ed-7c24a4c486df",
   "metadata": {},
   "outputs": [],
   "source": [
    "#get serializable order if no cycles\n",
    "if (nx.is_directed_acyclic_graph(DG) == True):\n",
    "    print(list(nx.topological_sort(DG)))"
   ]
  },
  {
   "cell_type": "markdown",
   "id": "ec71927b-286c-4cf4-9e1a-9617151857d2",
   "metadata": {},
   "source": [
    "There are other desirable schedule properties:\n",
    "- Recoverability - A recoverable schedule insures that a database can recover from failure even when concurrent transactions have been executing.\n",
    "- Cascade-Free - A cascading rollback occurs when a single transaction failure leads to a series of transaction rollbacks. A cascade-free schedule avoids cascading rollbacks.\n",
    "- Strict - Strict schedules simplify recovery procedures in the advent of failure.\n",
    "\n",
    "A recoverable schedule has the property that if a transaction Tj reads a data item previously written by a transaction Ti , the commit of Ti appears before the commit of Tj.\n",
    "- Note that if Ti aborts before Tj commits then the schedule is recoverable. It is not recoverable if Ti aborts after Tj commits.\n",
    "\n",
    "In a cascadeless schedule, cascading rollbacks cannot occur.\n",
    " - For each pair of transactions Ti and Tj such that Tj reads a data item previously written by Ti, the commit of Ti appears before the read operation of Tj. \n",
    " - That is, transactions only read committed values.\n",
    "\n",
    "In a strict schedule, a transaction can neither read nor write a data item until the last transaction that wrote the data item commits (or aborts)."
   ]
  },
  {
   "cell_type": "code",
   "execution_count": 7,
   "id": "cccf7c50-7640-4849-a34a-8e0829288e1b",
   "metadata": {},
   "outputs": [
    {
     "name": "stdout",
     "output_type": "stream",
     "text": [
      "Conflict: w2(A) and r1(A)\n",
      "Conflict: w1(B) and r3(B)\n",
      "Conflict: w2(B) and r3(B)\n",
      "not recoverable\n"
     ]
    }
   ],
   "source": [
    "#check if recoverable\n",
    "issues = 0\n",
    "solved = 0\n",
    "for i in range(len(actions)):\n",
    "    current = actions[i]\n",
    "    for j in range(i, len(actions)):\n",
    "        if current[\"transaction\"] != actions[j][\"transaction\"] and current[\"doneto\"] == actions[j][\"doneto\"]:\n",
    "            if (current[\"action\"] == 'w' and actions[j][\"action\"] == 'r'):\n",
    "                print(\"Conflict: \" + current[\"action\"]+current[\"transaction\"]+\"(\"+current[\"doneto\"] + \") and \" \n",
    "                      + actions[j][\"action\"]+actions[j][\"transaction\"]+\"(\"+actions[j][\"doneto\"] + \")\")\n",
    "                issues += 1\n",
    "                index1 = 0\n",
    "                index2 = 0\n",
    "                for k in range(len(commits)):\n",
    "                    if commits[k][\"transaction\"] == current[\"transaction\"]:\n",
    "                        index1 = k\n",
    "                    if commits[k][\"transaction\"] == actions[j][\"transaction\"]:\n",
    "                        index2 = k\n",
    "                if index1 < index2:\n",
    "                    solved += 1\n",
    "\n",
    "if issues == solved:\n",
    "    print(\"recoverable\")\n",
    "else:\n",
    "    print(\"not recoverable\")"
   ]
  },
  {
   "cell_type": "code",
   "execution_count": null,
   "id": "2421000e-6346-41f9-83cf-51dc0674bb7a",
   "metadata": {},
   "outputs": [],
   "source": []
  }
 ],
 "metadata": {
  "kernelspec": {
   "display_name": "Python 3 (ipykernel)",
   "language": "python",
   "name": "python3"
  },
  "language_info": {
   "codemirror_mode": {
    "name": "ipython",
    "version": 3
   },
   "file_extension": ".py",
   "mimetype": "text/x-python",
   "name": "python",
   "nbconvert_exporter": "python",
   "pygments_lexer": "ipython3",
   "version": "3.9.12"
  }
 },
 "nbformat": 4,
 "nbformat_minor": 5
}
